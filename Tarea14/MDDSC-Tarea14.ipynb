{
 "cells": [
  {
   "cell_type": "markdown",
   "metadata": {},
   "source": [
    "# Deal Committee Nomenclature\n",
    "\n",
    "\n",
    "Desde los años sesenta, las investigaciones en sistemas basados en $Si$ y $SiO_2$ generaron gran cantidad de publicaciones respecto a las cargas involucradas en ellos. Sin embargo, comenzaron a generarse confusiones respecto a la forma de nombrarlas, lo cual derivó en discusiones durante los encuentros del tema, así como en la interpretación de los trabajos.\n",
    "\n",
    "Para intentar corregir esta situación, en enero de 1978 se estableció un comité entre la Electronics Division of the Electrochemical Society y la Interface Specialists Conference (auspiciada por IEEE) para definir una terminología común para los distintos tipos de carga presentes en los óxidos. El comité fue precedido por Bruce Deal y trabajó para lograr una estandarización en la terminología, manteniendo la mayor simpleza pero dispersando las confusiones.\n",
    "\n",
    "Para los cuatro tipos de carga que se encuentran en los sistemas $Si$-$SiO_2$, definieron la siguiente nomenclatura para la carga efectiva neta por unidad de área en la interfaz $Si$-$SiO_2$ ($N_i$, $C/cm^{2}$) y número de cargas netas por unidad de área en la interfaz $Si$-$SiO_2$ ($Q_i$, $cm^{-2}$)\n",
    "\n",
    "Las cuatro cargas estandarizados fueron:\n",
    "\n",
    "<img src=\"img/dit.png\" width=\"400\">\n",
    "\n",
    "La nomenclatura quedó formalizada en el trabajo \"Standardized Terminology for Oxide Charges Associated with Thermally Oxidized Silicon\", IEEE Transactions on Electron Devices, Vol. Ed-27 No.3, Marzo 1980\n"
   ]
  },
  {
   "cell_type": "markdown",
   "metadata": {},
   "source": [
    "# Amphoteric Dangling Bonds\n",
    "\n",
    "Un defecto de tipo \"anfótero\" (o amphtoeric en inglés) es aquel que, en condiciones diferentes, puede llegar a comportarse como un defecto \"donor\" o \"aceptor\". Mientras que comunmente los estados superficiales (shallow states) suelen funcionar como donores o aceptores de electrones, los defectos anfóteros en semiconductores pueden tomar ambos comportamientos.\n",
    "\n",
    "<img src=\"img/ampho.png\" width=\"400\">\n",
    "\n",
    "\n",
    "Los centros de recombinación generarán densidades de estados dentro de la banda prohibida, que no existirían en un semiconductor perfecto.\n",
    "\n",
    "En la figura anterior, se muestra una representación de un centro de recombinación anfótero, con densidad de estados N(E). Cuando la vacancia está desocupada, el Dangling Bond \"D\" tendrá una carga positiva \"D+\", comportándose como \"aceptor\". Cuando es ocupado por un electrón, este centro de recombinación pasa a un estado neutro \"D0\". Estas dos condiciones se representan en el mismo nivel de energía. Cuando pasa a haber dos electrones, el centro de recombinación se carga negativamente (\"D-\"), y si la energía de correlación U es positiva, se mueve hacia arriba en un salto de valor \"U\".\n",
    "\n",
    "El primer paper que explica claramente la naturaleza amfotérica de los defectos y su relación con el nivel de Fermi es:\n",
    "\n",
    "* Amphoteric native defects in semiconductors, W. Walukiewicz, Applied Physics Letters 54, 2094 (1989); doi: 10.1063/1.101174\n",
    "\n",
    "Otros trabajos de importancia son:\n",
    "\n",
    "* Fermi level dependent native defect formation: Consequences for metal–semiconductor and semiconductor–semiconductor interfaces, Journal of Vacuum Science & Technology B: Microelectronics Processing and Phenomena 6, 1257 (1988); https://doi.org/10.1116/1.584246, W. Walukiewicz\n",
    "\n",
    "* Model for a-Si:H/c-Si interface recombination based on the amphoteric nature of silicon dangling bonds, Sara Olibet, Evelyne Vallat-Sauvain, and Christophe Ballif, Institute of Microtechnology (IMT), University of Neuchâtel, PHYSICAL REVIEW B\n",
    "\n",
    "Libros:\n",
    "\n",
    "* \"Thin-Film Crystalline Silicon Solar Cells: Physics and Technology\", de Rolf Brendel.\n",
    "\n",
    "* \"Defect Control in Semiconductors\", K. Sumino\n",
    "\n",
    "Cursos web:\n",
    "\n",
    "http://www.iue.tuwien.ac.at/phd/entner/node14.html"
   ]
  },
  {
   "cell_type": "markdown",
   "metadata": {},
   "source": [
    "# Medición y cálculo de DIT\n",
    "\n",
    "\n",
    "Una herramienta analítica muy intersante para caracterizar DIT, es la técnica de Resonancia Paramagnética Electrónica o Electron Spin Resonance (ESR). Esta medición permite inferir la localización de estados superficiales. Un problema de esta técnica es que somete al dispositivo a tensiones altas.\n",
    "\n",
    "Otra posibilidad es utilizar la técnica de Spin-Dependent Recombination (SDR). Esta técnica se basa en el modelo de Shockley-Read-Hall (SRH). Se utiliza fundamentalmente para ensayar transistores. En este caso el dispositivo bajo prueba se opera con una leve polarización directa en Drain-Source. Bajo esta condición, la corriente de polarización está dominada por la acción de los centros de recombinación en la interfaz $Si$/$SiO^2$. El dispositivo bajo prueba (DUT) se expone a un gran campo magnético continuo (generado con DC) que es variado muy lentamente para alinear parcialmente los spins de los portadores de carga paramagnéticos y los centros de recombinación paramagnéticos. Un portador no podrá ser atrapado por una trampa con el mismo spin, por lo que al invertir el spin, la probabilidad de que aparezcan diferentes spins de rampas y portadores aumenta y por lo tanto, aumenta la corriente de recombinación.\n",
    "\n",
    "## Modelo de Shockley-Read-Hall\n",
    "\n",
    "Este modelo explica el proceso de generación/recombinación por emisión de fonones.\n",
    "\n",
    "Este asume la presencia de trampas en un valor de energía $E_\\textrm{t}$ dentro de la banda prohibida del semiconductor. El exceso de energía en la recombinación y la energía necesaria para la generación de un par electrón-hueco, se transfiere hacia y desde la estructura cristalina respectivamente (emisión de fonones). Shockley, Read y Hall explicaron este fenómeno y por esto se lo suele encontrar nombrado así en la literatura.\n",
    "\n",
    "Existen cuatro sub-procesos posibles:\n",
    "\n",
    "* Captura de electrones. Un electrón de la banda de conducción es capturado por una trampa vacía de la banda prohibida. El exceso de energía ${E_\\textrm{c}}-{E_\\textrm{t}}$ se trasnfiere al Lattice, emitiendo un fonón.\n",
    "* Caputa de hueco. El electrón atrapado se mueve a la banda de valencia y neutraliza un hueco, o visto de otra manera, el hueco es capturado por una trampa ocupada por un electrón. Nuevamente, un fonón se emite, con energía ${E_\\textrm{t}}- \\ {E_\\textrm{v}}$.\n",
    "* Emisión de hueco. Un electrón de la banda de valencia es atrapado, dejando un hueco en la vanda de valencia, es decir que se emite un hueco desde la trampa vacía a la banda de valencia. La energía necesaria para este proceso es \n",
    "${E_\\textrm{t}}- {E_\\textrm{v}}$.\n",
    "* Emisión de electornes. Un electrón atrapado se mueve desde el nivel energético de la trampa a la banda de conducción. En este proceso, la energía necesaria para producirlo es de $E_\\textrm{c}-E_\\textrm{t}$.\n",
    "\n",
    "Los cuatro subprocesos se ilustran en la figura siguiente.\n",
    "\n",
    "<img src=\"img/srh.png\" width=\"600\">\n",
    "\n",
    "La ocurrencia de los sub-procesos de captura de helectrón y hueco, llevan a la recombinación de un par electron hueco. La energía excesiva se libera en forma de vibraciones de la estructura cristalina, es decir, fonones. Para la generación de un par electrón hueco, se dan los últimos dos subprocesos mencionados. Aquí es necesario que la estructura cristalina transfiera la energía faltante.\n",
    "\n",
    "La medición por SDR permite obtener las energías de las trampas $E_t$."
   ]
  },
  {
   "cell_type": "markdown",
   "metadata": {},
   "source": [
    "## State of art in Dit\n",
    "\n",
    "* \"Surface passivation of n-GaN by nitrided-thin-Ga2O3∕SiO2 and Si3N4 films\", Journal of Applied Physics 96, 2674 (2004); https://doi.org/10.1063/1.1772884, Choelhwyi Bae, Cristiano Krug, and Gerald Lucovskya)\n",
    "\n",
    "* \"Trapping Effects in Si δ-Doped β-Ga2O3 MESFETs on an Fe-Doped β-Ga2O3 Substrate\" IEEE ELECTRON DEVICE LETTERS, VOL. 39, NO. 7, JULY 2018, Joe F. McGlone, Zhanbo Xia, Yuewei Zhang, Chandan Joishi, Saurabh Lodha, Siddharth Rajan, Steven A. Ringel, and Aaron R. Arehart\n",
    "\n",
    "* \"Improved trap-related characteristics on SiNx/AlGaN/GaN MISHEMTs with surface treatment\", Yu-Syuan Lin ; King-Yuen Wong ; G. P. Lansbergen ; J. L. Yu ; C. J. Yu ; C. W. Hsiung ; H. C. Chiu ; S. D. Liu ; P. C. Chen ; F. W. Yao ; R. Y. Su ; C. Y. Chou ; C. Y. Tsai ; F. J. Yang ; C. L. Tsai ; C. S. Tsai ; X. Chen ; H. C. Tuan ; Alex Kalnitsky, 2014 IEEE 26th International Symposium on Power Semiconductor Devices & IC's (ISPSD)\n",
    "\n",
    "* \"Comparison of shallow interface traps in AlGaN/GaN MIS-devices with three different gate dielectrics\", Anushree Tomer ; Gourab Dutta ; Amitava DasGupta ; Nandita DasGupta, 2016 3rd International Conference on Emerging Electronics (ICEE)\n",
    "\n",
    "*  \"Reassessment of Minority Carrier Traps in Silicon during 'QuasiSteady-State' Photoconductance Measurements\" Y. Zhu, M. Juhl, G. Coletti and Z. Hameiri, 2018 IEEE 7th World Conference on Photovoltaic Energy Conversion (WCPEC) (A Joint Conference of 45th IEEE PVSC, 28th PVSEC & 34th EU PVSEC), Waikoloa Village, HI, 2018, pp. 0077-0088.\n",
    "\n",
    "* \"Impact of interface traps on the BTBT-current in tunnel field effect transistors,\"M. Ehteshamuddin, A. G. Alharbi and S. A. Loan,  2018 5th International Conference on Electrical and Electronic Engineering (ICEEE), Istanbul, 2018, pp. 224-227. doi: 10.1109/ICEEE2.2018.8391335\n",
    "\n",
    "* \"Detection of the Interface-Trap Charge Density and Lateral Nonuniformity of Through-Silicon Vias,\" K. Kim, J. Ahn and S. Ahn,  in IEEE Microwave and Wireless Components Letters, vol. 28, no. 5, pp. 422-424, May 2018. doi:10.1109/LMWC.2018.2822731\n"
   ]
  }
 ],
 "metadata": {
  "kernelspec": {
   "display_name": "Python 3",
   "language": "python",
   "name": "python3"
  },
  "language_info": {
   "codemirror_mode": {
    "name": "ipython",
    "version": 3
   },
   "file_extension": ".py",
   "mimetype": "text/x-python",
   "name": "python",
   "nbconvert_exporter": "python",
   "pygments_lexer": "ipython3",
   "version": "3.6.4"
  }
 },
 "nbformat": 4,
 "nbformat_minor": 2
}
