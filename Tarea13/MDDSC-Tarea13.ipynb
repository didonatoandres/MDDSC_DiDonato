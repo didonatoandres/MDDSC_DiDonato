{
 "cells": [
  {
   "cell_type": "markdown",
   "metadata": {},
   "source": [
    "# Oxide Electronics\n",
    "\n",
    "## Aplicaciones\n",
    "\n",
    "Algunas aplicaciones promisorias de la tecnología son:\n",
    "\n",
    "* Transparent oxide electronics. Muy útiles, pues permiten generar electrónica transparente, de gran impacto en optoelectrónica. Esto permitió por ejemplo, desarrollar displays gráficos transparentes, .\n",
    "\n",
    "* Canal de conducción para transsitores TFT (Thin film transistors). Sus propiedades son superiores a la del silicio amorfo.\n",
    "\n",
    "* Electrónica flexible. Este material abre las puertas a disponer de electrónica flexible.\n",
    "\n",
    "* Desarrollo de dieléctricos de alta constante dieléctrica, conocidos como \"High k\"\n",
    "\n",
    "Fuente: \"Transparent Oxide Electronics: From Materials to Devices\", Pedro Barquinha, Rodrigo Martins, Luis Pereira\n",
    "and Elvira Fortunato CENIMAT-I3N, Departamento de Ciência dos Materiais and CEMOP-UNINOVA, Faculdade de Ciências e Tecnologia, FCT, Universidade Nova de Lisboa."
   ]
  },
  {
   "cell_type": "markdown",
   "metadata": {},
   "source": [
    "# MIST CVD\n",
    "\n",
    "Algunos materiales posibles de depositar:\n",
    "\n",
    "* Materiales basados en óxido de Galio ($Ga_2 O_3$):\n",
    "    * $Ga_2 O_3$  Heteroepitaxial growth of ε-Ga2O3thin films on cubic (111) GGG substrates by mist chemical vapor deposition Daisuke Tahara ; Hiroyuki Nishinaka ; Shota Morimoto ; Mashahiro Yoshimoto 2017 IEEE International Meeting for Future of Electron Devices, Kansai (IMFEDK)\n",
    "    * $Ga Sn O$  Characteristic evaluation of Ga-Sn-O films deposited using mist chemical vapor deposition Ryugo Okamoto ; Hiroki Fukushima ; Mutsumi Kimura ; Tokiyoshi Matsuda 2017 IEEE International Meeting for Future of Electron Devices, Kansai (IMFEDK)\n",
    "    \n",
    "* Basados en $ZnO$\n",
    "    * Improvement of m-plane ZnO films formed on buffer layers on sapphire substrates by mist chemical vapor deposition\n",
    "Hironobu Tanoue ; Tatsuya Yamashita ; Shohei Wada ; Zenji Yatabe ; Shoji Nagaoka ; Yusui Nakamura 2016 Compound  Semiconductor Week (CSW) [Includes 28th International Conference on Indium Phosphide & Related Materials (IPRM) & 43rd International Symposium on Compound Semiconductors (ISCS).\n",
    "    * High-Performance Solution-Processed InGaZnO Thin-Film Transistor Fabricated by Ozone-Assisted Atmospheric Pressure Mist Deposition Mamoru Furuta ; Toshiyuki Kawaharamura ; Takayuki Uchida ; Dapeng Wang ; Masaru Sanada\n",
    "Journal of Display Technology\n",
    "Year: 2014 Volume: 10 , Issue: 11 \n",
    "\n",
    "* $Al_2 O_3$\n",
    "    *  Structural and electrical properties of Al2O3film grown by mist chemical vapour deposition Toshiyuki Kawaharamura ; Wang Dapeng ; Tetsuya Toda ; Chaoyang. Li ; Mamoru Furuta 2012 19th International Workshop on Active-Matrix Flatpanel Displays and Devices (AM-FPD) Year: 2012\n",
    "    \n",
    "* $Ti O_2$\n",
    "    *  A Comparative Study of Amorphous, Anatase, Rutile, and Mixed Phase TiO2 Films by Mist Chemical Vapor Deposition and Ultraviolet Photodetectors Applications Han-Yin Liu ; Yu-Liang Hsu ; Heng-Yi Su ; Ruei-Chin Huang ; Fu-Yuan Hou ; Guan-Cheng Tu ; Wei-Hsin Liu IEEE Sensors Journal Year: 2018 Volume: 18 , Issue: 10 \n",
    "    * Effects of deposition temperature and thermal annealing on the structural properties of titanium dioxide thin films prepared by mist chemical vapor deposition Qiang Zhang ; Chaoyang Li 2017 24th International Workshop on Active-Matrix Flatpanel Displays and Devices (AM-FPD) Year: 2017\n",
    "    \n",
    "* Óxido de Grafito (GTO)\n",
    "    * Evaluation of GTO Film Deposited Using mistCVD Method Yuta Takishita ; Ryugo Okamoto ; Mutsumi Kimura ; Tokiyoshi Matsuda 2018 IEEE International Meeting for Future of Electron Devices, Kansai (IMFEDK)\n",
    "Year: 2018\n",
    "\n",
    "* MgO\n",
    "    * Ultrasonic Assisted Mist Chemical Vapor Deposition Deposited MgO for AlGaNGaN Metal-Insulator-Semiconductor Ultraviolet Photodetector Han-Yin Liu ; Ching-Sung Lee ; Guan-Jyun Liu ; Ruei-Chin Huang\n",
    "IEEE Sensors Letters"
   ]
  },
  {
   "cell_type": "markdown",
   "metadata": {},
   "source": [
    "# High k dielectrics\n",
    "\n",
    "En general, un dieléctrico high-k o high-$\\kappa$ es aquel que posee una contacto dieléctrica alta en comparación con el óxido de silicio, tomado como referencia histórica por la industria microelectrónica.\n",
    "\n",
    "Los dieléctricos High-κ muchas veces ofician como aislantes en reemplazo del dióxido de silicio. El desarrollo de estos materiales ha permitido aumentar aún más el grado de integración y miniaturización de componentes electrónicos, por permitir iguales rendimientos en tamaños más pequeños.\n",
    "\n",
    "## Aplicaciones\n",
    "\n",
    "* En la tecnología CMOS y dispositivos MOSFET, los dieléctricos high-k basados en Hafnio ya se utilizan en productos comerciales como dieléctrico. Intel los utiliza desde el lanzamiento de su línea de 45nm. (2008) \n",
    "\n",
    "* Es utilizado en electrónica de bajo consumo. La línea de productos UltraLowPower de NEC de 55nm y los subsiguientes utilizan un dieléctrico high-k también basado en Hafnio.\n",
    "\n",
    "* Utilización en memorias. Se utilizan en memorias comerciales RAM dinámicas (DRAM) y están comenzando las aplicaciones en memorias FeRAM.\n",
    "\n",
    "* El desarrollo de capacitores de gran valor o \"supercapacitores\", de valores por encima de los 10.000F, requiere valores de gran constante dieléctrica y por lo tanto, lo materiales high-k son de gran interés en estas.\n",
    "\n",
    "## Técnicas de depósito\n",
    "\n",
    "* El método de depósito más común es \"Atomic Layer Deposition\" (ALD)\n",
    "\n",
    "\"Atomic layer deposition of high-k thin films for gate and capacitor dielectrics\", Y. Senzaki ; H. Chatham ; S. Park ; L. Bartholomew ; T. Lo ; Y. Okuyama ; 2004\n",
    "\n",
    "* Un método posible en algunos casos es MOCVD\n",
    "\n",
    "High-k Dielectric Materials by Metalorganic Chemical Vapor Deposition: Growth and Characterization\n",
    "R. Thomas , S. Regnery , P. Ehrhart , R. Waser , U. Patil , R. Bhakta, 2005\n",
    "\n",
    "* Otra posibilidad es \"Aerosol Deposition\" (AD)\n",
    "\n",
    "\"Inter-digital capacitors with aerosol-deposited high-K dielectric layer for highest capacitance value in capacitive super-sensing applications\"; Eun-Seong Kim, Jun-Ge Liang, Cong Wang, Myung-Yeon Cho, Jong-Min Oh & Nam-Young Kim; 2019\n",
    "\n"
   ]
  },
  {
   "cell_type": "markdown",
   "metadata": {},
   "source": [
    "# Sistemas ALD\n",
    "\n",
    "<img src=\"img/ald.png\" width=\"800\">\n",
    "\n",
    "Los puntos más críticos son:\n",
    "\n",
    "* Control de la temporalidad de las válvulas. La formación del layer atómico depende de un ciclado temporal que debe estar muy controlado. Por lo tanto, las válvulas deben ser capaces de conmutar abierto/cerrado con gran precisión.\n",
    "\n",
    "* Control del flujo. Los mass flow controllers utilizados deben regular con buena precisión temporal la entrada de cada uno de los gases.\n",
    "\n",
    "Un poco menos críticos, pero factores a atender son:\n",
    "\n",
    "* Presión de trabajo de la cámara\n",
    "* Temperatura del procesos"
   ]
  },
  {
   "cell_type": "markdown",
   "metadata": {},
   "source": [
    "# Orbitales $ns^0$"
   ]
  }
 ],
 "metadata": {
  "kernelspec": {
   "display_name": "Python 3",
   "language": "python",
   "name": "python3"
  },
  "language_info": {
   "codemirror_mode": {
    "name": "ipython",
    "version": 3
   },
   "file_extension": ".py",
   "mimetype": "text/x-python",
   "name": "python",
   "nbconvert_exporter": "python",
   "pygments_lexer": "ipython3",
   "version": "3.6.4"
  }
 },
 "nbformat": 4,
 "nbformat_minor": 2
}
