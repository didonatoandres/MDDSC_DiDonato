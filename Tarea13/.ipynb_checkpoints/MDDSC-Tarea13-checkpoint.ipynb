{
 "cells": [
  {
   "cell_type": "markdown",
   "metadata": {},
   "source": [
    "# Oxide Electronics\n",
    "\n",
    "## Aplicaciones\n",
    "\n",
    "Algunas aplicaciones promisorias de la tecnología son:\n",
    "\n",
    "* Transparent oxide electronics. Muy útiles, pues permiten generar electrónica transparente, de gran impacto en optoelectrónica. Esto permitió por ejemplo, desarrollar displays gráficos transparentes, .\n",
    "\n",
    "* Canal de conducción para transsitores TFT (Thin film transistors). Sus propiedades son superiores a la del silicio amorfo.\n",
    "\n",
    "* Electrónica flexible. Este material abre las puertas a disponer de electrónica flexible.\n",
    "\n",
    "* Desarrollo de dieléctricos de alta constante dieléctrica, conocidos como \"High k\"\n",
    "\n",
    "Fuente: \"Transparent Oxide Electronics: From Materials to Devices\", Pedro Barquinha, Rodrigo Martins, Luis Pereira\n",
    "and Elvira Fortunato CENIMAT-I3N, Departamento de Ciência dos Materiais and CEMOP-UNINOVA, Faculdade de Ciências e Tecnologia, FCT, Universidade Nova de Lisboa.\n",
    "\n",
    "# MIST CVD\n",
    "\n",
    "Algunos materiales posibles de depositar:\n",
    "\n",
    "* Materiales basados en óxido de Galio ($Ga_2 O_3$):\n",
    "    * $Ga_2 O_3$  Heteroepitaxial growth of ε-Ga2O3thin films on cubic (111) GGG substrates by mist chemical vapor deposition Daisuke Tahara ; Hiroyuki Nishinaka ; Shota Morimoto ; Mashahiro Yoshimoto 2017 IEEE International Meeting for Future of Electron Devices, Kansai (IMFEDK)\n",
    "    * $Ga Sn O$  Characteristic evaluation of Ga-Sn-O films deposited using mist chemical vapor deposition Ryugo Okamoto ; Hiroki Fukushima ; Mutsumi Kimura ; Tokiyoshi Matsuda 2017 IEEE International Meeting for Future of Electron Devices, Kansai (IMFEDK)\n",
    "    \n",
    "* Basados en $ZnO$\n",
    "    * Improvement of m-plane ZnO films formed on buffer layers on sapphire substrates by mist chemical vapor deposition\n",
    "Hironobu Tanoue ; Tatsuya Yamashita ; Shohei Wada ; Zenji Yatabe ; Shoji Nagaoka ; Yusui Nakamura 2016 Compound  Semiconductor Week (CSW) [Includes 28th International Conference on Indium Phosphide & Related Materials (IPRM) & 43rd International Symposium on Compound Semiconductors (ISCS).\n",
    "    * High-Performance Solution-Processed InGaZnO Thin-Film Transistor Fabricated by Ozone-Assisted Atmospheric Pressure Mist Deposition Mamoru Furuta ; Toshiyuki Kawaharamura ; Takayuki Uchida ; Dapeng Wang ; Masaru Sanada\n",
    "Journal of Display Technology\n",
    "Year: 2014 Volume: 10 , Issue: 11 \n",
    "\n",
    "* $Al_2 O_3$\n",
    "    *  Structural and electrical properties of Al2O3film grown by mist chemical vapour deposition Toshiyuki Kawaharamura ; Wang Dapeng ; Tetsuya Toda ; Chaoyang. Li ; Mamoru Furuta 2012 19th International Workshop on Active-Matrix Flatpanel Displays and Devices (AM-FPD) Year: 2012\n",
    "    \n",
    "* $Ti O_2$\n",
    "    *  A Comparative Study of Amorphous, Anatase, Rutile, and Mixed Phase TiO2 Films by Mist Chemical Vapor Deposition and Ultraviolet Photodetectors Applications Han-Yin Liu ; Yu-Liang Hsu ; Heng-Yi Su ; Ruei-Chin Huang ; Fu-Yuan Hou ; Guan-Cheng Tu ; Wei-Hsin Liu IEEE Sensors Journal Year: 2018 Volume: 18 , Issue: 10 \n",
    "    * Effects of deposition temperature and thermal annealing on the structural properties of titanium dioxide thin films prepared by mist chemical vapor deposition Qiang Zhang ; Chaoyang Li 2017 24th International Workshop on Active-Matrix Flatpanel Displays and Devices (AM-FPD) Year: 2017\n",
    "    \n",
    "* Óxido de Grafito (GTO)\n",
    "    * Evaluation of GTO Film Deposited Using mistCVD Method Yuta Takishita ; Ryugo Okamoto ; Mutsumi Kimura ; Tokiyoshi Matsuda 2018 IEEE International Meeting for Future of Electron Devices, Kansai (IMFEDK)\n",
    "Year: 2018\n",
    "\n",
    "* MgO\n",
    "    * Ultrasonic Assisted Mist Chemical Vapor Deposition Deposited MgO for AlGaNGaN Metal-Insulator-Semiconductor Ultraviolet Photodetector Han-Yin Liu ; Ching-Sung Lee ; Guan-Jyun Liu ; Ruei-Chin Huang\n",
    "IEEE Sensors Letters"
   ]
  }
 ],
 "metadata": {
  "kernelspec": {
   "display_name": "Python 3",
   "language": "python",
   "name": "python3"
  },
  "language_info": {
   "codemirror_mode": {
    "name": "ipython",
    "version": 3
   },
   "file_extension": ".py",
   "mimetype": "text/x-python",
   "name": "python",
   "nbconvert_exporter": "python",
   "pygments_lexer": "ipython3",
   "version": "3.6.4"
  }
 },
 "nbformat": 4,
 "nbformat_minor": 2
}
