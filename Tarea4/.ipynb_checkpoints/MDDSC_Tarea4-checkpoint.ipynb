{
 "cells": [
  {
   "cell_type": "markdown",
   "metadata": {},
   "source": [
    "Semiconductores apto paras las técnicas presentadas en clase\n",
    "\n",
    "Un posible candidato es el Óxido de Zinc (ZnO), el cual puede crecerse por método de Czochralski, por HVPE y por método Ammonothermal.\n",
    "\n",
    "Referencias:\n",
    "\n",
    "    -\"The growth of ZnO crystals from the melt\", D. Klimm, S. Ganschow, D. Schulz, and R. Fornari, 2007, experimenta el crecimiento de ZnO por método Czochralski, 10.1016/j.jcrysgro.2008.02.027\n",
    "    -\"Hydrothermal growth of ZnO nanostructures\", Sunandan Baruah and Joydeep Dutta ,2009,10.1088/1468-6996/10/1/013001\n",
    "    -\"Hydrothermal and Ammonothermal Growth of ZnO and GaN\", 2010, Michael J. Callahan, Qi-Sheng Chen, 10.1007/978-3-540-74761-1_19\n",
    "    \n",
    "Otro posible buen candidato es el Arseniuro de Galio (GaAs). Este material se crece adecuadamente por el método Czochralski y también por HVPE. Sin embargo, no existen referencias de que se haya realizado por vía ammonothermal. Los métodos ammonothermal son especialmente adecuados para el crecimiento de cristales del grupo III-N (y en especial, GaN), los cuales no son compatibles con crecimiento por el método Czochralski.\n",
    "\n",
    "Referencias:\n",
    "\n",
    "    -\"Bulk growth of GaAs An overview\", P. Rudolph, M. Jurisch, 1999, DOI: 10.1016/S0022-0248(98)01208-1 \n",
    "    -\"Selective growth of GaAs by HVPE: keys for accurate control of the growth morphologies\", E. Gil-Lafona, J. Napierala, D. Castelluci, A. Pimpinelli, R. Cadoreta, B. Gérard, 2001, 10.1016/S0022-0248(00)00961-1"
   ]
  },
  {
   "cell_type": "markdown",
   "metadata": {},
   "source": [
    "Método de Bridgman–Stockbarger\n",
    "\n",
    "Es un método utilizado para crecer lingotes monocristalinos, aunque también puede usarse para producir lingotes policristalinos.\n",
    "\n",
    "Su principio de funcionamiento es similar al proceso Czochralski. El proceso se basa en utilizar material policristalino por encima de su punto de fusión y enfriarlo lentamente desde uno de los extremos de su contenedor, donde se coloca un monocristal que funciona como semilla. Así, se logra formar un lingote monocristalino, cuya orientación coincide con la de la semilla. El montaje puede ser horizontal o vertical, y usualmente incluye un crisol giratorio.\n",
    "\n",
    "<img src=\"img/bridgman.png\" width=\"400\">\n",
    "\n",
    "En rigor de verdad, se trata de dos métodos diferentes. Ambos utilizan un gradiente térmico y un crisol móvil, pero la técnica de Bridgman usa un gradiente no muy controlado que se produce a la salidad del horno. El método de Stockbarger agrega como mejora un deflector que separa dos hornos diferentes, a temperaturas distintas, por debajo y por encima del punto de fusión. Esta modificación permite un mejor control del gradiente térmico en la interfaz entre el material fundido y el cristal."
   ]
  },
  {
   "cell_type": "markdown",
   "metadata": {},
   "source": [
    "Método de CVPE\n",
    "\n",
    "Este método pertenece a la gran familia de los método VPE (Vapor-phase epitaxy), los cuales permiten crecer materiales cristalinos por procesos de depósito en fase vapor (CVD).\n",
    "\n",
    "Puntualmente, en el caso de los aleaciones III-V y III-N, son frecuentemente utilizados los métodos HVPE (Halide transport Vapor-phase epitaxy) y CVPE (Chloride transport Vapor Phase Epitaxy). Sin embargo, este tipo de métodos pueden ser utilizados para otro tipo de semiconductores, como por ejemplo los II-VI.\n",
    "\n",
    "Como todos los procesos de tipo VPE, la aleación se obtiene en un reactor dividido en dos zonas que trabajan a temperaturas diferentes, utilizando un sistema de horno que rodea a este. Como \"carrier gas\" puede utilizarse hidrógeno, nitrógeno, argón, helio o combinaciones de helio con otros gases inertes. En la primera zona del reactor, llamada \"source zone\", mantenida a una temperatura Ts alrededor de 800ºC, las especies gaseosas que desean transportarse se sintetizas según la siguiente reacción: \n",
    "\n",
    "<img src=\"img/vpe-source.png\" width=\"400\">\n",
    "\n",
    "Luego, las especies gaseosas trasnportadas llegan a la segunda zona, denominada zona de depósito, que trabaja a una temperatura Td menor a Ts, típicamente 700ºC, donde ocurre la siguiente reacción:\n",
    "\n",
    "<img src=\"img/vpa-deposition.png\" width=\"600\">\n",
    "\n",
    "Si en la zona de depósito se coloca una semilla monocristalina, el depósito formado mantendrá esta orientación cristalográfica.\n",
    "\n",
    "Es de destacar que los procesos VPE son muy poco eficientes, pero muy baratos comparados con MOCVD.\n",
    "\n",
    "La diferencia fundamental entre CVPE y HVPE es que CVPE utiliza cloruros como productos de reacción, tales como AsCl y PCl. Los sistemas CVPE son muy atractivos dado que se pueden conseguir cloruros diferentes de muy alta pureza. La tabla comparativa que se muestra a continuación compara algunas características entre CVPE y HVPE.\n",
    "\n",
    "<img src=\"img/hvpe_cvpe.png\" width=\"800\">\n",
    "\n",
    "A continuación se muestra un esquema simplificado de un reactor CVPE.\n",
    "\n",
    "<img src=\"img/cvpe_reactor.png\" width=\"600\">\n",
    "\n"
   ]
  },
  {
   "cell_type": "markdown",
   "metadata": {},
   "source": [
    "Método de crecimiento cristalino por síntesis Hidrotérmica\n",
    "\n",
    "Se trata de un sistema similar al método \"Ammonothermal\". El crecimiento se realiza en condiciones de altas presiones de vapor y alta temperatura, en este caso, en una solución acuosa en lugar de la solución de amoníaco empleada por el ammonothermal.\n",
    "\n",
    "Esencialmente, la síntesis hidrotérmica es un método de crecimiento de monocristales, que depende fundamentalmente de la solubilidad de los minerales en agua caliente, a alta presión. El procedimiento se realiza en una autoclave (cámar de acero a alta presión), en la cual junto con el agua se añade un precursor. A ambos lados de la cámara, se mantiene un gradiente térmico. Del lado más caliente, el precursor se disuelve, mientras que del lado opuesto, se deposita sobre una semilla cristalina, formando un monocristal que copia el plano cristalino de la semilla original.\n",
    "\n",
    "Este método permite crecer fases cristalinas que no son estables a la temperatura de fusión. Adicionalmente, los materiales que tengan una presión de vapor alta cerca del punto de fusión, pueden crecerse por este método sin problemas. Es también un método excelente para crecer cristales de gran tamaño y buena calidad, manteniendo el control de la composición durante todo el proceso. Como desventajas, se requiere de una autoclave cara y de gran calidad, y adicionalmente es muy complicado observar el cristal durante el crecimiento, ya que por lo general las autoclaves son de acero.\n",
    "\n",
    "Las autoclaves usualmente son cilindros de acero inoxidable de paredes gruesas, selladas herméticamente. Deben soportar altas temperaturas y presiones durante largos períodos de tiempo. Adicionalmente el material empleado debe ser interte con respecto al solvente utilizado. El sello es el elemento más importante del autoclave, siendo uno de los diseños más comunes el sello Bridgman. En muchos casos, se utilizan en el proceso soluciones que son corrosivas para el acero. Para proteger el interior del autoclave, se suelen utilizar protecciones inertes. Estas pueden ser de materiales como cobre, plata, oro, titanio, cuarzo, teflón, etc dependiendo de la solución utilizada y de la temperatura de trabajo.\n",
    "\n",
    "A continuación se muestra un esquema simplificado de síntesis hidrotérmica.\n",
    "\n",
    "<img src=\"img/hydrothermal.jpg\" width=\"400\">\n",
    "\n",
    "\n"
   ]
  },
  {
   "cell_type": "markdown",
   "metadata": {},
   "source": [
    "Semiconductor elegido\n",
    "\n",
    "Un semiconductor que puede obtenerse por los tres métodos mencionados es el ZnO.\n",
    "\n",
    "Algunas referencias:\n",
    "\n",
    "    -\"Bridgman-grown zinc oxide single crystals\", Detlev Schulz, Steffen Ganschow, Detlef Klimm, Michael Neubert, Matthias Rossberg, Martin Schmidbauer, Roberto Fornari, https://doi.org/10.1016/j.jcrysgro.2006.08.012\n",
    "    \n",
    "    -\"Zinc Oxide: Fundamentals, Materials and Device Technology\", Hadis Morkoç, Ümit Özgür, Capítulo 2 (CVPE)\n",
    "    \n",
    "    -\"Hydrothermal growth of ZnO single crystals and their optical characterization\" T. Sekiguchi, S. Miyashita, K. Obara, T. Shishido, N. Sakagami, https://doi.org/10.1016/S0022-0248(00)00065-8"
   ]
  }
 ],
 "metadata": {
  "kernelspec": {
   "display_name": "Python 3",
   "language": "python",
   "name": "python3"
  },
  "language_info": {
   "codemirror_mode": {
    "name": "ipython",
    "version": 3
   },
   "file_extension": ".py",
   "mimetype": "text/x-python",
   "name": "python",
   "nbconvert_exporter": "python",
   "pygments_lexer": "ipython3",
   "version": "3.6.4"
  }
 },
 "nbformat": 4,
 "nbformat_minor": 2
}
