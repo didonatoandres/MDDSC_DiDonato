{
 "cells": [
  {
   "cell_type": "markdown",
   "metadata": {},
   "source": [
    "# SEM\n",
    "\n",
    "Se consiguen en el mercado comunmente tres tipos de fuentes de electrones:\n",
    "\n",
    "* Filamento de Tungsteno\n",
    "* Cristal de estado sólido (CeB6 o LaB6)\n",
    "* Field Emission gun (FEG)\n",
    "\n",
    "## Emisión termoiónica\n",
    "\n",
    "Cuando un material sólido se calienta, se emiten electrones por un emisión termoiónica. Esta emisión se vuelve significativa cuando la energía térmica de estos electrones supera a la función trabajo del material. El cátodo debe formarse de un material que tenga un punto de fusión alto y una función trabajo relativamente baja, para poder emitir una cantidad de electrones.\n",
    "\n",
    "\n",
    "### Filamento de Tungsteno\n",
    "\n",
    "Se trata de un alambre de Tungsteno en forma de V corta, de una longitud aproximada de 100um. El filamente se calienta y por esto, genera electrones. El tungsteno es especialmente usado como filamento, dado que posee un punto de fusión muy alto, una presión de vapor muy baja y un stress tensil muy alto. Todas estas características lo vuelven ideal para utilizar como fuente de electrónicas.\n",
    "\n",
    "<img src=\"img/tung.png\" width=\"200\">\n",
    "\n",
    "La alta temperatura de trabajo (2800K aproximadamente) hacen que el filamento de Tungsteno se vaya \"gastando\", o en rigor de verdad, evaporando hasta finalmente cortarse. El tiempo estimado de uso es de unas 100 horas.\n",
    "\n",
    "### Lanthanum hexaboride (LaB6) y Cerium hexaboride (CeB6)\n",
    "\n",
    "Ambos funcionan como fuentes de emisión termo-iónica. Estos cristales de estado sólido producen una intensidad de brillo entre cinco y diez veces mayor a la del filamento de Tungsteno. A continuación se muestra una micrografía de una fuente de cristalina típica.\n",
    "\n",
    "<img src=\"img/crystal.png\" width=\"400\">\n",
    "\n",
    "Esto permite tener más corriente disponible en el spot, por lo que se logra una mejor relación señal a ruido en un mismo tamaño de spot. De igual forma, trabajando con relaciones señal a ruido iguales, el spot que puede lograr una fuente de este tipo es mucho más pequeña que la de una fuente de Tungsteno, obteniendo mejor resolución.\n",
    "\n",
    "Adicionalmente, las fuentes cristalinas son más pequeñas, por lo que se requieren menores esfuerzos en la óptica para lograr una buena resolución de SEM.\n",
    "\n",
    "La temperatura operacional de estos cristales es de aproximadamente 1800K, contra 2800K del Tungsteno. Esta menor temperatura produce una menor dispersión energética, y por lo tanto una mejor calidad de imagen, en especial utilizando voltajes de aceleración bajos.\n",
    "\n",
    "Respecto al tiempo de uso, el valor estimado es de 1500 horas, más de 15 veces el tiempo de uso del filamento. Por otro lado, la degradación es gradual, sin existir un fenómeno abrupto de falla como ocurre con el filamento.\n",
    "\n",
    "Como contrapartida, este tipo de fuente es maś cara que la de filamento de Tungsteno.\n",
    "\n",
    "\n",
    "## Field emission gun (FEG)\n",
    "\n",
    "Se trata también de un alambre de Tungsteno, pero con una punta muy afilada, menor a 10nm. En este caso, la emisión no es termoiónica, sino que se utiliza emisión por efecto de campo para generar los electrones. El pequeño radio de la punta mejora considerablemente la emisión y la capacidad de enfocar.\n",
    "\n",
    "<img src=\"img/feg.png\" width=\"400\">\n",
    "\n",
    "Esta técnica de emisión permite producir un haz de electrones más pequeño en diámetro, más coherente y hasta tres órdenes de magnitud mayor en términos de densidad de corriente (y por lo tanto, brillo) en comparación con las fuetnes termoiónicas. Por lo tanto, los microscopios que utilizan FEGs logran grandes mejoras en relación señal a ruido y resolución espacial comparado con los que usan fuentes termoiónicas."
   ]
  },
  {
   "cell_type": "markdown",
   "metadata": {},
   "source": [
    "# AFM\n",
    "\n",
    "Sobre las mediciones (X,Y,Z) obtenidas por un AFM, se puede aplicar una Transformación Discreta de Fourier bidimensional (formalmente, 2D DFT, coloquialmente FFT por su implementación algorítmica rápida). El espectro de la FFT mostrará las características de todo lo que genere periodicidad en la imagen. Así, resulta muy interesante para lograr analizar aspectos propios, por ejemplo, de la estructura cristalina, que es naturalmente periódica.\n",
    "\n",
    "Utilizar una 2D FFT combinada con análisis de software (por ejemplo SPIP) para encontrar información de la estructura cristalina medida, así como de posibles imperfecciones en la misma en tanto se deforman los picos obtenidos por la FFT. A la vez, el espectro obtenido puede servir como información para aplicar un determinado filtrado, eliminando las componentes no deseadas, y obtener así una imagen mucho más limpia.\n",
    "\n",
    "A continuación se muestre un ejemplo completo: imagen original, espectro de la FFT, imagen post-filtrado y detalle.\n",
    "\n",
    "<img src=\"img/fft.png\" width=\"600\">\n",
    "(Extraido de \"Atomic Force Microscopy: Imaging, Measuring and Manipulating Surfaces\", Victor Bellitto)\n",
    "\n",
    "Incluso podrían distinguirse en la FFT picos asociados al sustrato y picos asociados a un film delgado y separar ambos efectos.\n",
    "\n",
    "A la vez, trabajar con una cantidad de puntos constante N y modificar las dimensiones en las que se trabaja, permitiría obtener espectros diferentes que muestren features distintas del material. Con N puntos, la resolución espacial del proceso será $R_spa=L/N$, siendo L la longitud recorrida y N el número de puntos. Asimismo, la resolución espectral de la FFT 2D será, a N constante, inversamente proporcional a la espacial. Por lo cual, medir una longitud grande, permitiría encontrar patrones repetitivos que ocurran a distancias grandes, mientras que medir áreas pequeñas permitiría encontrar features de una frecuencia espacial mayor, esto es, de períodos más cortos.\n",
    "\n",
    "Otra aplicación típica de las FFT de resolución variable en AFM es para determinar características de muestras magnéticas, pues se puede buscar un efecto de periodicidad dado por las líneas de campo magnético. De este modo se pueden estudiar elongaciones en dichos dominios.\n",
    "\n",
    "En forma general, la FFT permite trabajar buscando \"features\" asociados a fenómenos que posean una determinada periodicidad espacial, y de ahí su potencialidad al trabajar con materiales cristalinos.\n"
   ]
  },
  {
   "cell_type": "markdown",
   "metadata": {},
   "source": [
    "# STM\n",
    "\n",
    "En general, el problema más grave de los STM está asociado al ruido. Una medición tan sensible y que involucra corrientes tan bajas, "
   ]
  }
 ],
 "metadata": {
  "kernelspec": {
   "display_name": "Python 3",
   "language": "python",
   "name": "python3"
  },
  "language_info": {
   "codemirror_mode": {
    "name": "ipython",
    "version": 3
   },
   "file_extension": ".py",
   "mimetype": "text/x-python",
   "name": "python",
   "nbconvert_exporter": "python",
   "pygments_lexer": "ipython3",
   "version": "3.6.4"
  }
 },
 "nbformat": 4,
 "nbformat_minor": 2
}
