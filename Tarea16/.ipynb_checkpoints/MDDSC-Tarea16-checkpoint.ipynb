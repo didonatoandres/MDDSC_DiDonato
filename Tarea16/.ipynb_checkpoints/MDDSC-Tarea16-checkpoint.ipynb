{
 "cells": [
  {
   "cell_type": "markdown",
   "metadata": {},
   "source": [
    "# Celdas solares de Silicio - State of Art\n",
    "\n"
   ]
  },
  {
   "cell_type": "markdown",
   "metadata": {},
   "source": [
    "# White LED\n",
    "\n",
    "Existen dos formas básicas de generar LEDs blancos. Una de ellas es utilizar LEDs individuales que emiten tres colores primarios: rojo, verde y azul, los cuales se combinan en proporción adecuada para formar luz blanca. \n",
    "\n",
    "La segunda posibilidad es utilizar fósforo, el cual convierte luz monocromática de un LED azul o UV a una luz de amplio espectro cercana al blanco. Este efecto es similar al que utilizan los tubos fluorescentes.\n",
    "\n",
    "El color blanco se trabaja para que se vea de ese modo en el ojo humano. A casua del metamerismo del color, es posible lograr diferentes espectros que aparentan ser blancos. Sin embargo, la apariencia de los objetos iluminados por la luz pueden verse diferentes ante espectros de iluminación diferentes. El mejor resultado en términos de \"color rendering\" se obtiene utilizando LEDs con diferentes tipos de fósforo, a costa de menores rendimientos.\n",
    "\n",
    "## Usando LEDs R, G y B\n",
    "\n",
    "La mezcla de luz roja, verde y azul para producir luz blanca requiere electrónica adicional para controlar la combinación. Dado que los LEDs pueden tener patrones de emisión ligeramente diferentes, el balance de color puede modificarse acuerdo al ángulo de visión, incluso si los tres LEDs forman parte del mismo package. Es por esto que la combinación no es muy utilizada en iluminación blanca, aunque sí es muy común en pantallas o en aplicaciones donde se necesita variar el color emitido. Además, este mecanismo tiene mejor eficiencia cuántica que sus competidores.\n",
    "\n",
    "Existen varios tipos de LED blancos multicolor, típicamente los hay dicromáticos, tricomátricos y tetracromáticos. Varios factores claves inciden en estas variantes, tales como estabilidad de color, rendering y eficiencia luminosa. Usualmente, eficiencias mayores implican meor rendering, manejándose siempre una relación de compromiso entre ambas. A modo de ejemplo, las dicromáticas tienen la mejor eficiencia luminosa (aproximadamente 120 lm/W), pero el peor rendering de color. Sin embargo, aunque los tetracromáticos logran excelente rendering de color, su rendimiento es mucho más pobre. Los tricromáticos mantienen propiedades intermedias.\n",
    "\n",
    "Uno de los desafíos para mejorar la eficiencia es aumentar la eficiencia de los LEDs verdes, cuya eficiencia está aún muy lejos del máximo teórico. El \"dimming\" de la luz blanca es también muy difícil en este tipo de implementación, por las variaciones de cada LED.\n",
    "\n",
    "Aunque el enfoque RGB no es óptimo en términos de iluminación, sí lo es para su uso en displays.\n",
    "\n",
    "A continuación se muestra un espectro típico de un LED blanco RGB.\n",
    "\n",
    "<img src=\"img/rgb.png\" width=\"400\">\n",
    "\n",
    "\n",
    "## LEDs basados en fósforo\n",
    "\n",
    "Otro enfoque es generar luz \"blanca\" partiendo de un led azul emitido por GaN (pico cercano a 465nm) y luz de banda ancha emitida por el fósforo Ce3+:YAG, el cual emite entre los 500 y 700nm.\n",
    "\n",
    "Este método implica recubri LEDs de un color (esencialmente azul, y con sustrato de zafiro) con fósforos de distintos colores para formar luz blanca. El LED resultante se denomina basado en fósforo o bien LED blanco de conversión de fósforo (o pcLEDs por su acrónimo en inglés). Una fracción de la luz azul pasa por el desplazamiento de Stokes, que transforma longitudes de onda más cortas a más largas. Dependiendo del color del LED original, varios fósforos se usan. Utilizar capas de distintos fósforos permite expandir el espectro de emisión, aumentando el rendering de color.\n",
    "\n",
    "Dada la simplicidad de la fabricación, el método del fósforo es el más popular para construir LEDs blancos de alta intensidad. El diseño y producción de una fuente de luz usando un emisor monocromático y posterior conversión es más simple y más barato que los sistemas RGB y es el utilizado mayoritariamente para aplicaciones de iluminación.\n",
    "\n",
    "Dentro de los desafíos en este caso se trata de lograr fósforos más eficientes. El más eficiente utilizado por la industria es el fósforo YAG, con pérdidas por Stokes menores al 10%. Las pérdidas atribuibles a reabsorción sobre el chip y en el packaging son de entre un 10 y un 30%.\n",
    "\n",
    "Otras variantes LEDs blancos comerciales utilizan LEDs azules de GaN/InGaN dentro de un epoxy recubierto por fósforo. También existen otros que utilizan near-ultraviolet LEDs (NUV) con una mezcla de Fósforo-Europio que emiten luz roja y azul, además de sulfuro de Zinc dopado con cobre y aluminio (ZnS:Cu, Al) que emite verde. Este método es anaĺogo al modo en que generan el blanco las lámparas fluorescentes. Es menos eficiente que utilizar LEDs azules con fósforo YAG, dado que las pérdidas de Stokes son mayores, por lo que más energía se cnvierte en calor. Sin embargo, como en el caso de los LEDs RGB, aportan mejor renderización de color. Un riesgo es que parte de la luz UV se fugue, causando daño al ojo humano.\n",
    "\n",
    "A continuación se muestra un espectro típico de un LED blanco basado en fósforo.\n",
    "\n",
    "<img src=\"img/phosphor.png\" width=\"400\">\n",
    "\n",
    "\n",
    "## Otros LEDs blancos\n",
    "\n",
    "Un método experimental el crecimiento homoepitaxial de Seleniuro de Cinc (ZnSe) en un sustrato de ZnSe que simuláneamente emite luz azul de su región activa y luz amarilla del sustrato.\n",
    "\n",
    "Otro variante atractiva es utilizar la tecnología de GaN-on-Si para producir LEDs blancos en wafers de 8\". Este método evita los altos costos de utilizar sustratos de zafiro, los cuales además son más pequeños (4\"). Mientras que el Zafiro es caro y difícil de crecer, la tecnología de silicio está muy madura.\n",
    "\n"
   ]
  },
  {
   "cell_type": "markdown",
   "metadata": {},
   "source": [
    "# Blue LASER\n",
    "\n",
    "Aunque varias compañías han alcanzado la tecnología del láser azul (Nichia, Seoul Semiconductor, Cree, Everlight Electronics, Lumileds, Epistar y OSRAM) en general se reconoce a Nichia (Japón) como la compañía pionera en el desarrollo del láser azul basado en Nitruro de Galio.\n",
    "\n",
    "Sin embargo en la actualidad el blue laser de mejor performance producido industrialmente es el de Cree (EEUU).\n",
    "\n",
    "Referencias:\n",
    "* \"The Blue Laser Diode: GaN Based Light Emitters and Lasers\", Shuji Nakamura, Gerhard Fasol\n",
    "* Anscombe, Nadya - \"Blue laser battle\", Nature Photonics,2008/07/01, 2-393 https://doi.org/10.1038/nphoton.2008.116\n",
    "* https://www.cree.com/news-events/news/article/cree-launches-the-industrys-brightest-and-most-efficient-royal-blue-led"
   ]
  },
  {
   "cell_type": "markdown",
   "metadata": {},
   "source": [
    "# Mirrors in GaAs Lasers\n",
    "\n",
    "En un LASER convencional, un haz de luz concentrado se produce \"bombeando\" la luz emitida por átomos entre dos espejos.\n",
    "\n",
    "En un diodo laser, ocurre un proceso equivalente. Los fotones \"rebotan\" dentro de una juntura microscópica (aproximadamente de 1 micrón) entre capas de semiconductor dopado tipo p y tipo n que funcionan en forma análoga a los espejos. Este montaje se denomina cavidad resonante de Fabry Perot. La luz amplificada sale del lado pulida en un haz paralelo a la juntura.\n",
    "\n",
    "<img src=\"img/laserbasic.png\" width=\"400\">\n",
    "\n",
    "## Stacked GaAs Laser\n",
    "\n",
    "La topología actual más común de diodo laser es de tipo \"stack\". Se trata de montar varios diodos LASER uno sobre el otro y posteriormente enfocar la salida de cada uno en un haz común, utilizando un colimador y/o un lente.\n",
    "\n",
    "A continuación se muestra un esquema típico para GaAs.\n",
    "\n",
    "<img src=\"img/gaaslaser.png\" width=\"500\">\n",
    "\n",
    "En lugar de una juntura simple P-N, existen múltiples y la luz laser se da entre ellas. Típicamente también existe al menos una juntura túnel entre las capas apiladas. Los contactos ohmicos alimentan a toda la estructura.\n",
    "\n",
    "Para formar los \"espejos\", se utiliza típicamente pAl<sub>x</sub>Ga<sub>1-x</sub>As y nAl<sub>x</sub>Ga<sub>1-x</sub>As."
   ]
  },
  {
   "cell_type": "markdown",
   "metadata": {},
   "source": [
    "# MESFET\n",
    "\n",
    "Un MESFET (metal–semiconductor field-effect transistor) es un dispositivo similar a un JFET, con una juntura Schottky (metal-semiconductor) funcionando como gate.\n",
    "\n",
    "<img src=\"img/mesfet.png\" width=\"500\">\n",
    "\n",
    "## Familias de semiconductores\n",
    "\n",
    "Usualmente se utilizan en familias de semiconductores compuestos, que no tienen posibilidad de formar una superficie de pasivación de gran calidad, por lo que resulta poco atractivo utilizar una topología MOS.\n",
    "\n",
    "Algunas familias comunes donde se encuentran MESFET son:\n",
    "* GaAs (La familia más común)\n",
    "* InP\n",
    "* SiC\n",
    "* GaN (en menor medida)\n",
    "\n",
    "En forma general, puede decirse que los MESFETs son más caros de constuir que los MOSFETs o JFETs de Silicio, pero alcanzan frecuencias mucho mayores. Los MESFETs de GaAs alcanzan frecuencias de hasta 45GHz, y son empleadas en frecuencias de microondas y radarización."
   ]
  }
 ],
 "metadata": {
  "kernelspec": {
   "display_name": "Python 3",
   "language": "python",
   "name": "python3"
  },
  "language_info": {
   "codemirror_mode": {
    "name": "ipython",
    "version": 3
   },
   "file_extension": ".py",
   "mimetype": "text/x-python",
   "name": "python",
   "nbconvert_exporter": "python",
   "pygments_lexer": "ipython3",
   "version": "3.6.4"
  }
 },
 "nbformat": 4,
 "nbformat_minor": 2
}
