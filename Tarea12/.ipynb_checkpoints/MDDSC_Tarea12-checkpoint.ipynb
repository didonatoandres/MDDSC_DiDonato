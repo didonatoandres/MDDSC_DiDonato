{
 "cells": [
  {
   "cell_type": "markdown",
   "metadata": {},
   "source": [
    "# RCA1 y RCA2\n",
    "\n",
    "## Origen del nombre\n",
    "\n",
    "Llevan ese nombre por haber sido desarrolado por la compañía Radio Corporation of America o RCA para la limpieza de obleas de Si, especialmente para ser realizadas antes de los procesos de oxidación.\n",
    "\n",
    "\n",
    "## RCA1\n",
    "\n",
    "Su objetivo es remover todos los residuos orgánicos. Las partículas son removidas en forma muy efectiva, incluso las insolubles, ya que el proceso RCA1 modifica la superficie y los potenciales Z de las partículas, haciendo que se repelan. El tratamiento deja como resultado un cierto grado de contaminación metálica (mayormente de hierro) que se elimina en los pasos siguientes de la limpieza.\n",
    "\n",
    "## RCA2\n",
    "\n",
    "Se realiza luego de la RCA1. Esta estapa de la limpieza elimina las trazas de contaminantes metálicos (incluidos los formados durante RCA1). También deja sobre la superficie una capa fina de pasivación, que protege la superficie de la contaminación, y en especial de la formación de óxido nativo del silicio, que ocurre en forma casi instantánea si el silicio se encuentra expuesto.\n",
    "\n",
    "## Secuencia de pasos de RCA1\n",
    "\n",
    "* Preparación de la solución. Se utilizan 5 partes de agua DI y una parte de hidróxido de amonio (NH4OH, 29% en peso). La solución se calienta a 70ºC +/-65ºC. Luego de ser calentada, se retira la solución del calentador y se agrega una parte de peródxido de hidrógeno (H2O2) al 30% en volumen. La solución burbujeará durante uno o dos minutos.\n",
    "\n",
    "* Limpieza del wafer. Sumergir el wafer de silicio en la solución durante 15 minutos. En este paso se eliminará toda la contaminación orgánica del mismo.\n",
    "\n",
    "* Enguaje. Una vez pasados los quince minutos, se transfiere el wafer a un contenedor con agua DI por la cual se hace circuar un gran flujo de agua DI. Luego de realizar varios cambios del agua contenida, se retira el wafer, manteniendo un flujo de agua DI. Este proceso de mantener el flujo de agua evita que residuos orgánicos que puedan estar presente en el agua vuelvan a depositarse sobre el wafer al retirarlo.\n",
    "\n",
    "## Paso opcional\n",
    "\n",
    "Este paso, que en realidad no corresponde a RCA1 ni a RCA2, se trata de una inmersión corta en una solución 1:100 o 1:50 de ácido fluorhídrico (HF) en agua a 25ºC, por un tiempo breve, de aproximadamente quince segundos. El objetivo es la eliminación de la fina capa de óxido nativo que se forma sobre el mismo, y también contribuye a eliminar algunos de los iones metálicos generados en RCA1. \n",
    "Es importante destacar que este paso debe realizarse en condiciones máximas de limpieza, con contenedores ultra limpios, ya que en otro caso puede producir una recontaminación, ya que la superficie del silicio aún no ha sido pasivada.\n",
    "\n",
    "## Secuencia de pasos de RCA2\n",
    "\n",
    "* Preparación de la solución. Se utilizan 6 partes de agua DI y 1 parte de ácido clorhídrico (HCl) en solución acuosa (37% en peso). La solución se calienta a 70ºC +/-65ºC. Luego de ser calentada, se retira la solución del calentador y se agrega una parte de peródxido de hidrógeno (H2O2) al 30% en volumen. La solución burbujeará durante uno o dos minutos.\n",
    "\n",
    "* Limpieza del wafer. Sumergir el wafer de silicio en la solución durante 10 minutos aproximadamente. En este paso se eliminará toda la contaminación metálica del mismo y a la vez, formará una capa de pasivación que impide la formación de óxido nativo.\n",
    "\n",
    "* Enguaje. Una vez pasados los quince minutos, se transfiere el wafer a un contenedor con agua DI por la cual se hace circuar un gran flujo de agua DI. Luego de realizar varios cambios del agua contenida, se retira el wafer, manteniendo un flujo de agua DI. Este proceso de mantener el flujo de agua evita que residuos metálicos que puedan estar presente en el agua vuelvan a depositarse sobre el wafer al retirarlo.\n",
    "\n",
    "** Verfificación\n",
    "\n",
    "Una verificación simple pero muy efectiva y rápida consiste en verificar que luego de las limpiezas, el wafer de Silicio debe comportarse en forma hidrofóbica. Es decir, debe mostarar una clara tendencia a rechazar el agua sobre su superficie."
   ]
  }
 ],
 "metadata": {
  "kernelspec": {
   "display_name": "Python 3",
   "language": "python",
   "name": "python3"
  },
  "language_info": {
   "codemirror_mode": {
    "name": "ipython",
    "version": 3
   },
   "file_extension": ".py",
   "mimetype": "text/x-python",
   "name": "python",
   "nbconvert_exporter": "python",
   "pygments_lexer": "ipython3",
   "version": "3.6.4"
  }
 },
 "nbformat": 4,
 "nbformat_minor": 2
}
