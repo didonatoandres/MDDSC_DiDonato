{
 "cells": [
  {
   "cell_type": "markdown",
   "metadata": {},
   "source": [
    "Índices de Miller\n",
    "\n",
    "Tomamos como ejemplo al Silicio.\n",
    "\n",
    "Para el caso de las mediciones simétricas, los índices de Miller corresponden al plano (1,0,0) y por lo tanto, la distancia de separación entre planos cirstalográficos es:\n",
    "\n",
    "$$d= {{a} \\over {\\sqrt{(h^2+k^2+l^2)}}}=a=0.357nm$$\n",
    "\n",
    "Para un plano no simétrico como por ejemplo (1,1,1), la distancia cambiará a:\n",
    "\n",
    "$$d= {{a} \\over {\\sqrt{(h^2+k^2+l^2)}}}={a \\over \\sqrt3}=0.206nm$$"
   ]
  },
  {
   "attachments": {},
   "cell_type": "markdown",
   "metadata": {},
   "source": [
    "Rocking curves\n",
    "\n",
    "Una Rocking Curve, también llamada $\\omega$ scan es un tipo de medición común en las mediciones de XRD.\n",
    "En el gráfico siguiente, se muestran los ángulos de una medición de XRD, típicamente llamados $\\omega$ y $\\theta$.\n",
    "\n",
    "<img src=\"img/xrd.png\" width=\"400\">\n",
    "\n",
    "El ángulo incidente $\\omega$ se define entre la fuente de rayos X y la muestra a medir, mientras que el ángulo de difracción $2\\theta$ se define entre el ángulo incidente y la posición del detector.\n",
    "\n",
    "La medición más común, denominada Coupled Scan o $\\theta-2\\theta$, se realiza con el objetivo de medir el ángulo de difracción de Bragg. En ella, se realiza un gráfico de dispersión de intensidad de Rayos X dispersados en función del ángulo $2\\theta$, a la vez que el ángulo incidente $\\omega=\\theta+Offset$. Así, ambos ángulos siempre están vinculados.\n",
    "\n",
    "Un coupled scan solo produce una familia de picos de Brag, correspondientes a los planos simétricos.\n",
    "\n",
    "\n",
    "<img src=\"img/coupled.png\" width=\"600\">\n",
    "\n",
    "Dado que los planos (100) y (200) (y en forma general, los n00) son paralelos, generarán interferencia y por lo tanto picos visibles en el Coupled Scan. Sin embargo, los planos como el (110) difractan en ángulos diferentes, en los cuales el detector no está correctamente alineado, y por lo tanto, no se producen picos de difracción. El ensayo de Coupled Scan es adecuado para estudiar el lattice mismatch, composición ternaria, relajación de la estructura cristalina, espesor y período de superlaticce, ya que todos estos dependen de la inforamción que dan los picos de Bragg.\n",
    "\n",
    "Las Rocking Curves se usan esencialmente para estudiar defectos en la estructura cristalina, tales como densidad de dislocaciones, mosaicidad, curvatura, problemas de orientación e inhomogeneidades. \n",
    "\n",
    "Esencialmente, una medición tipo Rocking Curve (o como dijimos, $\\omega$ scan), permite observar la intensidad de rayos X de planos que no son perfectamente paralelos. Esquematizamos la medición en la figura siguiente:\n",
    "\n",
    "<img src=\"img/rocking.png\" width=\"600\">\n",
    "\n",
    "En una Rocking Curve, el detector se sitúa en un ángulo de Bragg específico y la muestra se inclina. Un cristal perfecto, produciría un pico muy angosto (trazo rojo), que se observaría únicamente cuando el cristal está inclinado en una posición tal que la dirección cristalográfica esté paralela al vector de difracción. De todas formas, la medición poseería cierto ancho, dado el ancho de la fuente de luz, el propio error del instrumento y el ancho intrínseco del material cristalino.\n",
    "\n",
    "Defectos tales como la mosaicidad, dislocaciones y curvatura, generan disrupciones en el paralelismo ideal de los planos atómicos. Como consecuencia de estos, se observa un ensachamiento de la rocking curve. Esto puede observarse en la curva azul.\n",
    "\n",
    "Existen dos configuraciones básicas para XRD, de dos ejes o de tres ejes. En el caso de trabajar en el modo de dos ejes, el detector no discrimina entre diferentes ángulos de difracción $2\\theta$. Así, dentro de un rango limitado, todos los ángulos de Bragg son medidos simultáneamente. Al hacer una rocking curve, la muestra es rotada en torno a su eje $\\omega$ modificando el ángulo de incidencia, para realizar un gráfico de intensidad en función de $\\omega$.\n",
    "En la configuración de tres ejes, se utiliza un slit para determinar una aceptación angular del detector. En general, la configuración de dos ejes es más favorable para medir rocking curves de films delgados lattice-matched, mientras que el esquema de tres ejes permite separar entre los distintos ángulos de Bragg, pudiendo ver así información de picos diferentes por separado.\n",
    "\n",
    "<img src=\"img/doubletripleaxis.png\" width=\"400\">\n",
    "\n"
   ]
  },
  {
   "cell_type": "markdown",
   "metadata": {},
   "source": [
    "Reciprocal Space Map\n",
    "\n",
    "Una medición de tipo Reciprocal Space Map realiza sucesivos barridos del tipo Coupled Scan $\\omega-2\\theta$, pero cada uno de ellos se realiza con un tilt (offset) ligeramente diferente en la dirección de $\\omega$. En cada scan, se cumple que $2\\theta=2\\omega+tilt$. El valor del tilt varía ligeramente en cada medición. Se puede pensar como la realización de muchas rocking curves, que terminan representando un mapa completo de $\\omega-2\\theta$ en función del Tilt.\n",
    "\n",
    "Definición de Espacio Recíproco.\n",
    "\n",
    "\n",
    "Definimos $d_{hkl}$ al vector desde el origen de la célular unitaria hasta la intersección con el primer plano cristalográfico de la familia (hkl) en un ángulo de 90º. Se define entonces el vector recíproco $d*_{hkl}=1/d_{hkl}$. Queda definida entonces una estructura Lattice recíproca, donde cada punto representa un vector que a la vez, representa un conjunto de planos de Bragg. Cada vector puede a su vez separarse en sus componentes tales que $-d*_{hkl}=h_{a*}+k_{b*}+l_{c*}$. \n",
    "\n",
    "<img src=\"img/recip.png\" width=\"300\">\n",
    "\n",
    "Los problemas en el cristal tales como el strain o tensión, desplazarán los puntos del lattice recíproco, impidiendo que estos puedan ser detectados con un solo scan. Es por esto que el Reciprocal Space Map realiza  múltiples scans buscando los picos dados por el sustrato y por el film.\n",
    "\n",
    "Los Reciprocal Space Maps aportan la información más completa que pueda obtenerse, representando un mapa tridimensional completo de $\\omega-2\\theta$ en función del Tilt.\n",
    "\n",
    "<img src=\"img/recip_meas.png\" width=\"500\">\n"
   ]
  },
  {
   "cell_type": "markdown",
   "metadata": {},
   "source": [
    "Calibración en la medición de SIMS\n",
    "\n",
    "La medición correcta de SIMS requiere la calibración de las escalas de masa y energía.\n",
    "\n",
    "Resulta de especial importancia la calibración de masa o Mass Calibration. Como toda espectroscopía, SIMS busca identificar los compuestos presentes en una muestra. Para la correcta identificación de los compuestos, es esencial tener adecuadamente calibrada la escala de masa. En rigor de verdad, se debería hablar de la razón m/q, dado que el efecto de separación del SIMS se basa en esta relación, pero sin embargo se suele hablar de masa ya que la mayor parte de los iones secundarios poseen carga unitaria.\n",
    "\n",
    "Es común realizar para el diseño de los SIMS utilizar software de ray tracing, siendo SIMION uno de los más populares. Estos estudian el efecto de la energía cinética sobre los iones (aberraciones cromáticas) y el efecto de la emisión angular del tiempo de vuelo (ToF) asociado al SIMS.\n",
    "\n",
    "Una forma de calibración se basa en trabajar con un sustrato conocidos, cuyos iones secundarios generen intensidades apreciables y tengan a la vez, sus masas bien definidas. Algunos sustratos de uso común son Silicio, Molibdeno y óxido de Indio. Se prefiere utilizar sustratos conductivos para evitar el efecto de carga. De trabajar con muestras de calibración aislantes, se requeriría neutralizar la carga de algún modo.\n",
    "\n",
    "Típicamente, cuando se realizan calibraciones se utilizan iones de masa relativamente baja que se usan como calibradores. Esta calibración permitirá luego la detección de iones con masas mucho mayores.\n",
    "\n",
    "Una forma clásica de realizar una calibración es por implantación de iones conocidos en un sustrato conocido. Esta debe cumplir ciertos requisitos:\n",
    "\n",
    "* Solo realizar implantación de un isótopo.\n",
    "* Evitar la implantación de impurezas\n",
    "* Implantar una dosis adecuadamente medida. A la vez, considerar el posible cambio de conductividad que puede traer la implantación de dósis muy altas.\n",
    "* La energía debe ser suficientemente alta para que el pico de la implantación ocurra a una profundidad más profunda al valor de equilibrio.\n",
    "\n",
    "La calibración permite entonces lograr una adecuada relación entre tiempo de vuelo y masa, que será necesaria para lograr identificar los compuestos presentes en una muestra a ser medida con SIMS. Esta resulta más exigente cuanto menor es la diferencia de masa entre los compuestos que se deseen distinguir.\n",
    "\n",
    "También se requiere calibrar la escala energética, dado que las intensidades de los iones secundarios varían en forma significativa según su emisión energética. De hecho, la capacidad de un SIMS de separar iones secundarios según su relación m/q, depende de la energía de xtracción de los iones. Esencialmente en esta calibración se busca optimizar los detectores de forma tal que la sensibilidad sea maximidada. La optimización busca mejorar la captura y conversión de los iones en una señal de energía eléctrica calibrada en unidades de intensidad. La optimización requiere trabajar con las dimensiones del equipo, voltajes y en algunos casos puede que se necesite incluir \n",
    "\n"
   ]
  }
 ],
 "metadata": {
  "kernelspec": {
   "display_name": "Python 3",
   "language": "python",
   "name": "python3"
  },
  "language_info": {
   "codemirror_mode": {
    "name": "ipython",
    "version": 3
   },
   "file_extension": ".py",
   "mimetype": "text/x-python",
   "name": "python",
   "nbconvert_exporter": "python",
   "pygments_lexer": "ipython3",
   "version": "3.6.4"
  }
 },
 "nbformat": 4,
 "nbformat_minor": 2
}
