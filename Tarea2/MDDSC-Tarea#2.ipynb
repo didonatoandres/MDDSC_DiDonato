{
 "cells": [
  {
   "cell_type": "markdown",
   "metadata": {},
   "source": [
    "Ley de Vegard: se trata de una Ley empírica que permite estimar la constante de Lattice de una aleación conociendo la constante Lattice de cada compuesto por separado.\n",
    "\n",
    "$$a_{A_{1-x}B_x}=(1-x)a_A+x a_B$$"
   ]
  },
  {
   "cell_type": "markdown",
   "metadata": {},
   "source": [
    "En la fórmula anterior: $$a_{A_{1-x}b_x}$$ es la constante de Lattice de la aleación, $$a_A$$ es la constante de Lattice del elemento A, $$a_B$$ es la constante de Lattice del elemento B y x es la fracción molar utilizada en la aleación.\n",
    "\n",
    "Aunque originalmente Vegard lo planteó en su publicación para compuestos binarios (doi:10.1007/BF01349680), esta ley puede extenderse aplicando el mismo concepto a aleaciones ternarias y cuaternarias.\n",
    "\n",
    "Además de la constante de Lattice, la ley de Vegard es útil para predecir el bandgap de compuestos semiconductores, aplicando el mismo concepto:\n",
    "\n",
    "$$E_{g{A_{1-x}B_x}}=(1-x)E_{gA}+x E{g_B}$$\n",
    "\n",
    "Especialmente en esta aplicación, puede corregirse la ley de Vegard agregando un segundo término que tome en consideración una variación no-lineal en el bandgap. Típicamente:\n",
    "\n",
    "$$E_{g{A_{1-x}B_x}}=(1-x)E_{gA}+x E{g_B}-bx(1-x)$$ siendo b llamado comunmente \"Bowing parameter\"\n"
   ]
  }
 ],
 "metadata": {
  "kernelspec": {
   "display_name": "Python 3",
   "language": "python",
   "name": "python3"
  },
  "language_info": {
   "codemirror_mode": {
    "name": "ipython",
    "version": 3
   },
   "file_extension": ".py",
   "mimetype": "text/x-python",
   "name": "python",
   "nbconvert_exporter": "python",
   "pygments_lexer": "ipython3",
   "version": "3.6.4"
  }
 },
 "nbformat": 4,
 "nbformat_minor": 2
}
